{
 "cells": [
  {
   "cell_type": "markdown",
   "id": "22c4a196",
   "metadata": {
    "papermill": {
     "duration": 0.031606,
     "end_time": "2021-10-24T21:28:48.777579",
     "exception": false,
     "start_time": "2021-10-24T21:28:48.745973",
     "status": "completed"
    },
    "tags": []
   },
   "source": [
    "### Importing relevant libraries"
   ]
  },
  {
   "cell_type": "code",
   "execution_count": 1,
   "id": "8822496a",
   "metadata": {
    "execution": {
     "iopub.execute_input": "2021-10-24T21:28:48.847375Z",
     "iopub.status.busy": "2021-10-24T21:28:48.846862Z",
     "iopub.status.idle": "2021-10-24T21:28:53.807123Z",
     "shell.execute_reply": "2021-10-24T21:28:53.806523Z",
     "shell.execute_reply.started": "2021-10-24T20:33:40.560314Z"
    },
    "papermill": {
     "duration": 4.999322,
     "end_time": "2021-10-24T21:28:53.807281",
     "exception": false,
     "start_time": "2021-10-24T21:28:48.807959",
     "status": "completed"
    },
    "tags": []
   },
   "outputs": [],
   "source": [
    "from PIL import Image \n",
    "import numpy as np\n",
    "import os\n",
    "from os import listdir\n",
    "from PIL import Image \n",
    "from sklearn.preprocessing import MinMaxScaler\n",
    "scaler = MinMaxScaler()\n",
    "import joblib\n",
    "import pandas as pd\n",
    "import matplotlib.pyplot as plt\n",
    "import tensorflow as tf\n",
    "from tensorflow.keras import regularizers\n",
    "import numpy as np\n",
    "import warnings\n",
    "warnings.filterwarnings('ignore')"
   ]
  },
  {
   "cell_type": "markdown",
   "id": "120c57f1",
   "metadata": {
    "papermill": {
     "duration": 0.028963,
     "end_time": "2021-10-24T21:28:53.866056",
     "exception": false,
     "start_time": "2021-10-24T21:28:53.837093",
     "status": "completed"
    },
    "tags": []
   },
   "source": [
    "### Loading labels"
   ]
  },
  {
   "cell_type": "code",
   "execution_count": 2,
   "id": "316259f8",
   "metadata": {
    "execution": {
     "iopub.execute_input": "2021-10-24T21:28:53.928165Z",
     "iopub.status.busy": "2021-10-24T21:28:53.927624Z",
     "iopub.status.idle": "2021-10-24T21:28:53.958142Z",
     "shell.execute_reply": "2021-10-24T21:28:53.958579Z",
     "shell.execute_reply.started": "2021-10-24T20:33:46.035992Z"
    },
    "papermill": {
     "duration": 0.063109,
     "end_time": "2021-10-24T21:28:53.958720",
     "exception": false,
     "start_time": "2021-10-24T21:28:53.895611",
     "status": "completed"
    },
    "tags": []
   },
   "outputs": [
    {
     "data": {
      "text/html": [
       "<div>\n",
       "<style scoped>\n",
       "    .dataframe tbody tr th:only-of-type {\n",
       "        vertical-align: middle;\n",
       "    }\n",
       "\n",
       "    .dataframe tbody tr th {\n",
       "        vertical-align: top;\n",
       "    }\n",
       "\n",
       "    .dataframe thead th {\n",
       "        text-align: right;\n",
       "    }\n",
       "</style>\n",
       "<table border=\"1\" class=\"dataframe\">\n",
       "  <thead>\n",
       "    <tr style=\"text-align: right;\">\n",
       "      <th></th>\n",
       "      <th>id</th>\n",
       "      <th>label</th>\n",
       "    </tr>\n",
       "  </thead>\n",
       "  <tbody>\n",
       "    <tr>\n",
       "      <th>0</th>\n",
       "      <td>0</td>\n",
       "      <td>24</td>\n",
       "    </tr>\n",
       "    <tr>\n",
       "      <th>1</th>\n",
       "      <td>1</td>\n",
       "      <td>2</td>\n",
       "    </tr>\n",
       "    <tr>\n",
       "      <th>2</th>\n",
       "      <td>2</td>\n",
       "      <td>17</td>\n",
       "    </tr>\n",
       "    <tr>\n",
       "      <th>3</th>\n",
       "      <td>3</td>\n",
       "      <td>14</td>\n",
       "    </tr>\n",
       "    <tr>\n",
       "      <th>4</th>\n",
       "      <td>4</td>\n",
       "      <td>19</td>\n",
       "    </tr>\n",
       "    <tr>\n",
       "      <th>...</th>\n",
       "      <td>...</td>\n",
       "      <td>...</td>\n",
       "    </tr>\n",
       "    <tr>\n",
       "      <th>13435</th>\n",
       "      <td>13435</td>\n",
       "      <td>5</td>\n",
       "    </tr>\n",
       "    <tr>\n",
       "      <th>13436</th>\n",
       "      <td>13436</td>\n",
       "      <td>26</td>\n",
       "    </tr>\n",
       "    <tr>\n",
       "      <th>13437</th>\n",
       "      <td>13437</td>\n",
       "      <td>2</td>\n",
       "    </tr>\n",
       "    <tr>\n",
       "      <th>13438</th>\n",
       "      <td>13438</td>\n",
       "      <td>24</td>\n",
       "    </tr>\n",
       "    <tr>\n",
       "      <th>13439</th>\n",
       "      <td>13439</td>\n",
       "      <td>13</td>\n",
       "    </tr>\n",
       "  </tbody>\n",
       "</table>\n",
       "<p>13440 rows × 2 columns</p>\n",
       "</div>"
      ],
      "text/plain": [
       "          id  label\n",
       "0          0     24\n",
       "1          1      2\n",
       "2          2     17\n",
       "3          3     14\n",
       "4          4     19\n",
       "...      ...    ...\n",
       "13435  13435      5\n",
       "13436  13436     26\n",
       "13437  13437      2\n",
       "13438  13438     24\n",
       "13439  13439     13\n",
       "\n",
       "[13440 rows x 2 columns]"
      ]
     },
     "execution_count": 2,
     "metadata": {},
     "output_type": "execute_result"
    }
   ],
   "source": [
    "df= pd.read_csv('../input/arabic-hwr-ai-pro-intake1/train.csv')\n",
    "df"
   ]
  },
  {
   "cell_type": "code",
   "execution_count": 3,
   "id": "d3550390",
   "metadata": {
    "execution": {
     "iopub.execute_input": "2021-10-24T21:28:54.023224Z",
     "iopub.status.busy": "2021-10-24T21:28:54.022404Z",
     "iopub.status.idle": "2021-10-24T21:28:54.024935Z",
     "shell.execute_reply": "2021-10-24T21:28:54.024470Z",
     "shell.execute_reply.started": "2021-10-24T20:33:46.073675Z"
    },
    "papermill": {
     "duration": 0.037042,
     "end_time": "2021-10-24T21:28:54.025043",
     "exception": false,
     "start_time": "2021-10-24T21:28:53.988001",
     "status": "completed"
    },
    "tags": []
   },
   "outputs": [],
   "source": [
    "labels= df['label']"
   ]
  },
  {
   "cell_type": "code",
   "execution_count": 4,
   "id": "c96345e7",
   "metadata": {
    "execution": {
     "iopub.execute_input": "2021-10-24T21:28:54.086800Z",
     "iopub.status.busy": "2021-10-24T21:28:54.086145Z",
     "iopub.status.idle": "2021-10-24T21:28:54.088706Z",
     "shell.execute_reply": "2021-10-24T21:28:54.089109Z",
     "shell.execute_reply.started": "2021-10-24T20:33:46.084354Z"
    },
    "papermill": {
     "duration": 0.035104,
     "end_time": "2021-10-24T21:28:54.089222",
     "exception": false,
     "start_time": "2021-10-24T21:28:54.054118",
     "status": "completed"
    },
    "tags": []
   },
   "outputs": [
    {
     "data": {
      "text/plain": [
       "(13440,)"
      ]
     },
     "execution_count": 4,
     "metadata": {},
     "output_type": "execute_result"
    }
   ],
   "source": [
    "labels.shape"
   ]
  },
  {
   "cell_type": "markdown",
   "id": "22d9b168",
   "metadata": {
    "papermill": {
     "duration": 0.028555,
     "end_time": "2021-10-24T21:28:54.147122",
     "exception": false,
     "start_time": "2021-10-24T21:28:54.118567",
     "status": "completed"
    },
    "tags": []
   },
   "source": [
    "### Loading images"
   ]
  },
  {
   "cell_type": "code",
   "execution_count": 5,
   "id": "2ed87559",
   "metadata": {
    "execution": {
     "iopub.execute_input": "2021-10-24T21:28:54.209748Z",
     "iopub.status.busy": "2021-10-24T21:28:54.208988Z",
     "iopub.status.idle": "2021-10-24T21:28:54.211004Z",
     "shell.execute_reply": "2021-10-24T21:28:54.211369Z",
     "shell.execute_reply.started": "2021-10-24T20:33:46.092160Z"
    },
    "papermill": {
     "duration": 0.034961,
     "end_time": "2021-10-24T21:28:54.211515",
     "exception": false,
     "start_time": "2021-10-24T21:28:54.176554",
     "status": "completed"
    },
    "tags": []
   },
   "outputs": [],
   "source": [
    "train_path=\"../input/arabic-hwr-ai-pro-intake1/train/\"\n",
    "test_path=\"../input/arabic-hwr-ai-pro-intake1/test/\""
   ]
  },
  {
   "cell_type": "code",
   "execution_count": 6,
   "id": "e90564fb",
   "metadata": {
    "execution": {
     "iopub.execute_input": "2021-10-24T21:28:54.274887Z",
     "iopub.status.busy": "2021-10-24T21:28:54.274152Z",
     "iopub.status.idle": "2021-10-24T21:28:54.276530Z",
     "shell.execute_reply": "2021-10-24T21:28:54.276082Z",
     "shell.execute_reply.started": "2021-10-24T20:33:46.099186Z"
    },
    "papermill": {
     "duration": 0.036422,
     "end_time": "2021-10-24T21:28:54.276634",
     "exception": false,
     "start_time": "2021-10-24T21:28:54.240212",
     "status": "completed"
    },
    "tags": []
   },
   "outputs": [],
   "source": [
    "def loadImages(path):\n",
    "    # returns array of images\n",
    "    \n",
    "    imagesList = listdir(path)\n",
    "    imagesList.sort()\n",
    "    image_df = []\n",
    "    for image in imagesList:\n",
    "        img = Image.open(path + image).convert('L')\n",
    "        img=img.resize((32,32))\n",
    "        img=np.asarray(img)\n",
    "        img=img.reshape((32,32,1))\n",
    "        img=img/255\n",
    "        image_df.append(img)\n",
    "    \n",
    "    return np.array(image_df)"
   ]
  },
  {
   "cell_type": "code",
   "execution_count": 7,
   "id": "d49dcf36",
   "metadata": {
    "execution": {
     "iopub.execute_input": "2021-10-24T21:28:54.338870Z",
     "iopub.status.busy": "2021-10-24T21:28:54.338247Z",
     "iopub.status.idle": "2021-10-24T21:29:51.294512Z",
     "shell.execute_reply": "2021-10-24T21:29:51.293906Z",
     "shell.execute_reply.started": "2021-10-24T20:33:46.109465Z"
    },
    "papermill": {
     "duration": 56.988519,
     "end_time": "2021-10-24T21:29:51.294668",
     "exception": false,
     "start_time": "2021-10-24T21:28:54.306149",
     "status": "completed"
    },
    "tags": []
   },
   "outputs": [],
   "source": [
    "train_data = loadImages(train_path)\n",
    "test_data= loadImages(test_path)"
   ]
  },
  {
   "cell_type": "code",
   "execution_count": 8,
   "id": "ba69a86e",
   "metadata": {
    "execution": {
     "iopub.execute_input": "2021-10-24T21:29:51.359895Z",
     "iopub.status.busy": "2021-10-24T21:29:51.359116Z",
     "iopub.status.idle": "2021-10-24T21:29:51.363357Z",
     "shell.execute_reply": "2021-10-24T21:29:51.362925Z",
     "shell.execute_reply.started": "2021-10-24T20:34:29.297411Z"
    },
    "papermill": {
     "duration": 0.03854,
     "end_time": "2021-10-24T21:29:51.363488",
     "exception": false,
     "start_time": "2021-10-24T21:29:51.324948",
     "status": "completed"
    },
    "tags": []
   },
   "outputs": [
    {
     "data": {
      "text/plain": [
       "(13440, 32, 32, 1)"
      ]
     },
     "execution_count": 8,
     "metadata": {},
     "output_type": "execute_result"
    }
   ],
   "source": [
    "train_data.shape"
   ]
  },
  {
   "cell_type": "code",
   "execution_count": 9,
   "id": "5bf81709",
   "metadata": {
    "execution": {
     "iopub.execute_input": "2021-10-24T21:29:51.426976Z",
     "iopub.status.busy": "2021-10-24T21:29:51.426382Z",
     "iopub.status.idle": "2021-10-24T21:29:51.428956Z",
     "shell.execute_reply": "2021-10-24T21:29:51.429362Z",
     "shell.execute_reply.started": "2021-10-24T20:34:29.305114Z"
    },
    "papermill": {
     "duration": 0.036364,
     "end_time": "2021-10-24T21:29:51.429517",
     "exception": false,
     "start_time": "2021-10-24T21:29:51.393153",
     "status": "completed"
    },
    "tags": []
   },
   "outputs": [
    {
     "data": {
      "text/plain": [
       "(3360, 32, 32, 1)"
      ]
     },
     "execution_count": 9,
     "metadata": {},
     "output_type": "execute_result"
    }
   ],
   "source": [
    "test_data.shape"
   ]
  },
  {
   "cell_type": "markdown",
   "id": "bf39e593",
   "metadata": {
    "papermill": {
     "duration": 0.029647,
     "end_time": "2021-10-24T21:29:51.488992",
     "exception": false,
     "start_time": "2021-10-24T21:29:51.459345",
     "status": "completed"
    },
    "tags": []
   },
   "source": [
    "### Visualizing some images"
   ]
  },
  {
   "cell_type": "code",
   "execution_count": 10,
   "id": "590485ff",
   "metadata": {
    "execution": {
     "iopub.execute_input": "2021-10-24T21:29:51.567286Z",
     "iopub.status.busy": "2021-10-24T21:29:51.562257Z",
     "iopub.status.idle": "2021-10-24T21:29:51.770002Z",
     "shell.execute_reply": "2021-10-24T21:29:51.770582Z",
     "shell.execute_reply.started": "2021-10-24T20:34:29.316907Z"
    },
    "papermill": {
     "duration": 0.251552,
     "end_time": "2021-10-24T21:29:51.770725",
     "exception": false,
     "start_time": "2021-10-24T21:29:51.519173",
     "status": "completed"
    },
    "tags": []
   },
   "outputs": [
    {
     "data": {
      "text/plain": [
       "<matplotlib.image.AxesImage at 0x7f295b8278d0>"
      ]
     },
     "execution_count": 10,
     "metadata": {},
     "output_type": "execute_result"
    },
    {
     "data": {
      "image/png": "[encoded data removed]",
      "text/plain": [
       "<Figure size 432x288 with 1 Axes>"
      ]
     },
     "metadata": {
      "needs_background": "light"
     },
     "output_type": "display_data"
    }
   ],
   "source": [
    "plt.imshow(train_data[3000])"
   ]
  },
  {
   "cell_type": "code",
   "execution_count": 11,
   "id": "8ab9d7ce",
   "metadata": {
    "execution": {
     "iopub.execute_input": "2021-10-24T21:29:51.999459Z",
     "iopub.status.busy": "2021-10-24T21:29:51.984252Z",
     "iopub.status.idle": "2021-10-24T21:29:52.181241Z",
     "shell.execute_reply": "2021-10-24T21:29:52.181778Z",
     "shell.execute_reply.started": "2021-10-24T20:34:29.671331Z"
    },
    "papermill": {
     "duration": 0.380301,
     "end_time": "2021-10-24T21:29:52.181925",
     "exception": false,
     "start_time": "2021-10-24T21:29:51.801624",
     "status": "completed"
    },
    "tags": []
   },
   "outputs": [
    {
     "data": {
      "text/plain": [
       "<matplotlib.image.AxesImage at 0x7f295ada6f50>"
      ]
     },
     "execution_count": 11,
     "metadata": {},
     "output_type": "execute_result"
    },
    {
     "data": {
      "image/png": "[encoded data removed]",
      "text/plain": [
       "<Figure size 432x288 with 1 Axes>"
      ]
     },
     "metadata": {
      "needs_background": "light"
     },
     "output_type": "display_data"
    }
   ],
   "source": [
    "plt.imshow(train_data[2])"
   ]
  },
  {
   "cell_type": "markdown",
   "id": "f5d21864",
   "metadata": {
    "papermill": {
     "duration": 0.031415,
     "end_time": "2021-10-24T21:29:52.246453",
     "exception": false,
     "start_time": "2021-10-24T21:29:52.215038",
     "status": "completed"
    },
    "tags": []
   },
   "source": [
    "### Shuffling images"
   ]
  },
  {
   "cell_type": "code",
   "execution_count": 12,
   "id": "ee9f8778",
   "metadata": {
    "execution": {
     "iopub.execute_input": "2021-10-24T21:29:52.315415Z",
     "iopub.status.busy": "2021-10-24T21:29:52.314313Z",
     "iopub.status.idle": "2021-10-24T21:29:52.353340Z",
     "shell.execute_reply": "2021-10-24T21:29:52.352787Z",
     "shell.execute_reply.started": "2021-10-24T20:34:29.875412Z"
    },
    "papermill": {
     "duration": 0.075496,
     "end_time": "2021-10-24T21:29:52.353514",
     "exception": false,
     "start_time": "2021-10-24T21:29:52.278018",
     "status": "completed"
    },
    "tags": []
   },
   "outputs": [],
   "source": [
    "indices = np.arange(train_data.shape[0])\n",
    "np.random.shuffle(indices)\n",
    "shuffled_images = train_data[indices]\n",
    "shuffled_labels = labels[indices]\n"
   ]
  },
  {
   "cell_type": "markdown",
   "id": "694b9bc9",
   "metadata": {
    "papermill": {
     "duration": 0.075358,
     "end_time": "2021-10-24T21:29:52.461588",
     "exception": false,
     "start_time": "2021-10-24T21:29:52.386230",
     "status": "completed"
    },
    "tags": []
   },
   "source": [
    "### Dividing data into train/validation/test"
   ]
  },
  {
   "cell_type": "code",
   "execution_count": 13,
   "id": "25b4a2bd",
   "metadata": {
    "execution": {
     "iopub.execute_input": "2021-10-24T21:29:52.529721Z",
     "iopub.status.busy": "2021-10-24T21:29:52.528992Z",
     "iopub.status.idle": "2021-10-24T21:29:52.531307Z",
     "shell.execute_reply": "2021-10-24T21:29:52.531763Z",
     "shell.execute_reply.started": "2021-10-24T20:34:29.920597Z"
    },
    "papermill": {
     "duration": 0.038787,
     "end_time": "2021-10-24T21:29:52.531914",
     "exception": false,
     "start_time": "2021-10-24T21:29:52.493127",
     "status": "completed"
    },
    "tags": []
   },
   "outputs": [],
   "source": [
    "validation_samples= int(0.1*train_data.shape[0])    #nearly 10%\n",
    "test_samples = int(0.1*train_data.shape[0])        #nearly 10%    \n",
    "train_samples = train_data.shape[0]-(validation_samples+test_samples)      #nearly 80%\n"
   ]
  },
  {
   "cell_type": "code",
   "execution_count": 14,
   "id": "26f16cc3",
   "metadata": {
    "execution": {
     "iopub.execute_input": "2021-10-24T21:29:52.600207Z",
     "iopub.status.busy": "2021-10-24T21:29:52.599549Z",
     "iopub.status.idle": "2021-10-24T21:29:52.602581Z",
     "shell.execute_reply": "2021-10-24T21:29:52.602131Z",
     "shell.execute_reply.started": "2021-10-24T20:34:29.927872Z"
    },
    "papermill": {
     "duration": 0.039165,
     "end_time": "2021-10-24T21:29:52.602686",
     "exception": false,
     "start_time": "2021-10-24T21:29:52.563521",
     "status": "completed"
    },
    "tags": []
   },
   "outputs": [],
   "source": [
    "validation_images= shuffled_images[:validation_samples]\n",
    "validation_labels= shuffled_labels[:validation_samples]\n",
    "\n",
    "test_images = shuffled_images[validation_samples:validation_samples+test_samples]\n",
    "test_labels= shuffled_labels[validation_samples:validation_samples+test_samples]\n",
    "\n",
    "\n",
    "train_images = shuffled_images[validation_samples+test_samples:]\n",
    "train_labels = shuffled_labels[validation_samples+test_samples:]\n",
    "\n"
   ]
  },
  {
   "cell_type": "code",
   "execution_count": 15,
   "id": "92dff8b4",
   "metadata": {
    "execution": {
     "iopub.execute_input": "2021-10-24T21:29:52.672659Z",
     "iopub.status.busy": "2021-10-24T21:29:52.671213Z",
     "iopub.status.idle": "2021-10-24T21:29:52.675142Z",
     "shell.execute_reply": "2021-10-24T21:29:52.674689Z",
     "shell.execute_reply.started": "2021-10-24T20:34:29.936933Z"
    },
    "papermill": {
     "duration": 0.040857,
     "end_time": "2021-10-24T21:29:52.675248",
     "exception": false,
     "start_time": "2021-10-24T21:29:52.634391",
     "status": "completed"
    },
    "tags": []
   },
   "outputs": [
    {
     "data": {
      "text/plain": [
       "(10752, 32, 32, 1)"
      ]
     },
     "execution_count": 15,
     "metadata": {},
     "output_type": "execute_result"
    }
   ],
   "source": [
    "train_images.shape"
   ]
  },
  {
   "cell_type": "code",
   "execution_count": 16,
   "id": "c1736d9e",
   "metadata": {
    "execution": {
     "iopub.execute_input": "2021-10-24T21:29:52.743573Z",
     "iopub.status.busy": "2021-10-24T21:29:52.742849Z",
     "iopub.status.idle": "2021-10-24T21:29:52.745410Z",
     "shell.execute_reply": "2021-10-24T21:29:52.745851Z",
     "shell.execute_reply.started": "2021-10-24T20:34:29.951007Z"
    },
    "papermill": {
     "duration": 0.039373,
     "end_time": "2021-10-24T21:29:52.745966",
     "exception": false,
     "start_time": "2021-10-24T21:29:52.706593",
     "status": "completed"
    },
    "tags": []
   },
   "outputs": [
    {
     "data": {
      "text/plain": [
       "(1344, 32, 32, 1)"
      ]
     },
     "execution_count": 16,
     "metadata": {},
     "output_type": "execute_result"
    }
   ],
   "source": [
    "validation_images.shape"
   ]
  },
  {
   "cell_type": "code",
   "execution_count": 17,
   "id": "2aa65b8a",
   "metadata": {
    "execution": {
     "iopub.execute_input": "2021-10-24T21:29:52.812876Z",
     "iopub.status.busy": "2021-10-24T21:29:52.812266Z",
     "iopub.status.idle": "2021-10-24T21:29:52.814826Z",
     "shell.execute_reply": "2021-10-24T21:29:52.815250Z",
     "shell.execute_reply.started": "2021-10-24T20:34:29.961082Z"
    },
    "papermill": {
     "duration": 0.038165,
     "end_time": "2021-10-24T21:29:52.815397",
     "exception": false,
     "start_time": "2021-10-24T21:29:52.777232",
     "status": "completed"
    },
    "tags": []
   },
   "outputs": [
    {
     "data": {
      "text/plain": [
       "(1344, 32, 32, 1)"
      ]
     },
     "execution_count": 17,
     "metadata": {},
     "output_type": "execute_result"
    }
   ],
   "source": [
    "test_images.shape"
   ]
  },
  {
   "cell_type": "markdown",
   "id": "20437b2a",
   "metadata": {
    "papermill": {
     "duration": 0.032527,
     "end_time": "2021-10-24T21:29:52.879842",
     "exception": false,
     "start_time": "2021-10-24T21:29:52.847315",
     "status": "completed"
    },
    "tags": []
   },
   "source": [
    "### Model outline"
   ]
  },
  {
   "cell_type": "code",
   "execution_count": 18,
   "id": "db410516",
   "metadata": {
    "execution": {
     "iopub.execute_input": "2021-10-24T21:29:52.952229Z",
     "iopub.status.busy": "2021-10-24T21:29:52.951706Z",
     "iopub.status.idle": "2021-10-24T21:29:55.300179Z",
     "shell.execute_reply": "2021-10-24T21:29:55.300840Z",
     "shell.execute_reply.started": "2021-10-24T21:26:02.378853Z"
    },
    "papermill": {
     "duration": 2.387973,
     "end_time": "2021-10-24T21:29:55.301028",
     "exception": false,
     "start_time": "2021-10-24T21:29:52.913055",
     "status": "completed"
    },
    "tags": []
   },
   "outputs": [
    {
     "name": "stderr",
     "output_type": "stream",
     "text": [
      "2021-10-24 21:29:53.034503: I tensorflow/stream_executor/cuda/cuda_gpu_executor.cc:937] successful NUMA node read from SysFS had negative value (-1), but there must be at least one NUMA node, so returning NUMA node zero\n",
      "2021-10-24 21:29:53.125663: I tensorflow/stream_executor/cuda/cuda_gpu_executor.cc:937] successful NUMA node read from SysFS had negative value (-1), but there must be at least one NUMA node, so returning NUMA node zero\n",
      "2021-10-24 21:29:53.126392: I tensorflow/stream_executor/cuda/cuda_gpu_executor.cc:937] successful NUMA node read from SysFS had negative value (-1), but there must be at least one NUMA node, so returning NUMA node zero\n",
      "2021-10-24 21:29:53.128103: I tensorflow/core/platform/cpu_feature_guard.cc:142] This TensorFlow binary is optimized with oneAPI Deep Neural Network Library (oneDNN) to use the following CPU instructions in performance-critical operations:  AVX2 AVX512F FMA\n",
      "To enable them in other operations, rebuild TensorFlow with the appropriate compiler flags.\n",
      "2021-10-24 21:29:53.129236: I tensorflow/stream_executor/cuda/cuda_gpu_executor.cc:937] successful NUMA node read from SysFS had negative value (-1), but there must be at least one NUMA node, so returning NUMA node zero\n",
      "2021-10-24 21:29:53.129939: I tensorflow/stream_executor/cuda/cuda_gpu_executor.cc:937] successful NUMA node read from SysFS had negative value (-1), but there must be at least one NUMA node, so returning NUMA node zero\n",
      "2021-10-24 21:29:53.130578: I tensorflow/stream_executor/cuda/cuda_gpu_executor.cc:937] successful NUMA node read from SysFS had negative value (-1), but there must be at least one NUMA node, so returning NUMA node zero\n",
      "2021-10-24 21:29:54.908730: I tensorflow/stream_executor/cuda/cuda_gpu_executor.cc:937] successful NUMA node read from SysFS had negative value (-1), but there must be at least one NUMA node, so returning NUMA node zero\n",
      "2021-10-24 21:29:54.909502: I tensorflow/stream_executor/cuda/cuda_gpu_executor.cc:937] successful NUMA node read from SysFS had negative value (-1), but there must be at least one NUMA node, so returning NUMA node zero\n",
      "2021-10-24 21:29:54.910130: I tensorflow/stream_executor/cuda/cuda_gpu_executor.cc:937] successful NUMA node read from SysFS had negative value (-1), but there must be at least one NUMA node, so returning NUMA node zero\n",
      "2021-10-24 21:29:54.910714: I tensorflow/core/common_runtime/gpu/gpu_device.cc:1510] Created device /job:localhost/replica:0/task:0/device:GPU:0 with 15403 MB memory:  -> device: 0, name: Tesla P100-PCIE-16GB, pci bus id: 0000:00:04.0, compute capability: 6.0\n"
     ]
    }
   ],
   "source": [
    "model = tf.keras.Sequential([\n",
    "    \n",
    "    tf.keras.layers.Conv2D(64,3,activation='relu',input_shape=(32,32,1)),\n",
    "    tf.keras.layers.Conv2D(64,3,activation='relu'),\n",
    "    tf.keras.layers.MaxPooling2D(pool_size=(2,2)),\n",
    "\n",
    "        \n",
    "    tf.keras.layers.Conv2D(128,3,activation='relu'),\n",
    "    tf.keras.layers.Conv2D(128,3,activation='relu'),\n",
    "    tf.keras.layers.MaxPooling2D(pool_size=(2,2)),\n",
    "\n",
    "        \n",
    "    tf.keras.layers.Flatten(),\n",
    "    tf.keras.layers.Dense(1024,'relu'),\n",
    "    tf.keras.layers.Dropout(0.8),\n",
    "    tf.keras.layers.Dense(1024,'relu'),\n",
    "    tf.keras.layers.Dropout(0.8),\n",
    "    tf.keras.layers.Dense(29)\n",
    "    \n",
    "    \n",
    "])                                "
   ]
  },
  {
   "cell_type": "markdown",
   "id": "7999a646",
   "metadata": {
    "papermill": {
     "duration": 0.032538,
     "end_time": "2021-10-24T21:29:55.368115",
     "exception": false,
     "start_time": "2021-10-24T21:29:55.335577",
     "status": "completed"
    },
    "tags": []
   },
   "source": [
    "### Model architecture"
   ]
  },
  {
   "cell_type": "code",
   "execution_count": 19,
   "id": "bb79f449",
   "metadata": {
    "execution": {
     "iopub.execute_input": "2021-10-24T21:29:55.441324Z",
     "iopub.status.busy": "2021-10-24T21:29:55.438880Z",
     "iopub.status.idle": "2021-10-24T21:29:55.447951Z",
     "shell.execute_reply": "2021-10-24T21:29:55.447408Z",
     "shell.execute_reply.started": "2021-10-24T21:26:02.876050Z"
    },
    "papermill": {
     "duration": 0.047032,
     "end_time": "2021-10-24T21:29:55.448055",
     "exception": false,
     "start_time": "2021-10-24T21:29:55.401023",
     "status": "completed"
    },
    "tags": []
   },
   "outputs": [
    {
     "name": "stdout",
     "output_type": "stream",
     "text": [
      "Model: \"sequential\"\n",
      "___________________________________________________________________________\n",
      "Layer (type)                     Output Shape                  Param #     \n",
      "===========================================================================\n",
      "conv2d (Conv2D)                  (None, 30, 30, 64)            640         \n",
      "___________________________________________________________________________\n",
      "conv2d_1 (Conv2D)                (None, 28, 28, 64)            36928       \n",
      "___________________________________________________________________________\n",
      "max_pooling2d (MaxPooling2D)     (None, 14, 14, 64)            0           \n",
      "___________________________________________________________________________\n",
      "conv2d_2 (Conv2D)                (None, 12, 12, 128)           73856       \n",
      "___________________________________________________________________________\n",
      "conv2d_3 (Conv2D)                (None, 10, 10, 128)           147584      \n",
      "___________________________________________________________________________\n",
      "max_pooling2d_1 (MaxPooling2D)   (None, 5, 5, 128)             0           \n",
      "___________________________________________________________________________\n",
      "flatten (Flatten)                (None, 3200)                  0           \n",
      "___________________________________________________________________________\n",
      "dense (Dense)                    (None, 1024)                  3277824     \n",
      "___________________________________________________________________________\n",
      "dropout (Dropout)                (None, 1024)                  0           \n",
      "___________________________________________________________________________\n",
      "dense_1 (Dense)                  (None, 1024)                  1049600     \n",
      "___________________________________________________________________________\n",
      "dropout_1 (Dropout)              (None, 1024)                  0           \n",
      "___________________________________________________________________________\n",
      "dense_2 (Dense)                  (None, 29)                    29725       \n",
      "===========================================================================\n",
      "Total params: 4,616,157\n",
      "Trainable params: 4,616,157\n",
      "Non-trainable params: 0\n",
      "___________________________________________________________________________\n"
     ]
    }
   ],
   "source": [
    "model.summary(line_length=75)"
   ]
  },
  {
   "cell_type": "markdown",
   "id": "d7c23cb4",
   "metadata": {
    "papermill": {
     "duration": 0.033305,
     "end_time": "2021-10-24T21:29:55.514753",
     "exception": false,
     "start_time": "2021-10-24T21:29:55.481448",
     "status": "completed"
    },
    "tags": []
   },
   "source": [
    "### Compiling our model"
   ]
  },
  {
   "cell_type": "code",
   "execution_count": 20,
   "id": "9d4b57cc",
   "metadata": {
    "execution": {
     "iopub.execute_input": "2021-10-24T21:29:55.585315Z",
     "iopub.status.busy": "2021-10-24T21:29:55.584474Z",
     "iopub.status.idle": "2021-10-24T21:29:55.586463Z",
     "shell.execute_reply": "2021-10-24T21:29:55.586884Z",
     "shell.execute_reply.started": "2021-10-24T21:26:03.441964Z"
    },
    "papermill": {
     "duration": 0.039219,
     "end_time": "2021-10-24T21:29:55.587003",
     "exception": false,
     "start_time": "2021-10-24T21:29:55.547784",
     "status": "completed"
    },
    "tags": []
   },
   "outputs": [],
   "source": [
    "loss_fn= tf.keras.losses.SparseCategoricalCrossentropy(from_logits=True)"
   ]
  },
  {
   "cell_type": "code",
   "execution_count": 21,
   "id": "ba30d8a5",
   "metadata": {
    "execution": {
     "iopub.execute_input": "2021-10-24T21:29:55.658932Z",
     "iopub.status.busy": "2021-10-24T21:29:55.658110Z",
     "iopub.status.idle": "2021-10-24T21:29:55.668265Z",
     "shell.execute_reply": "2021-10-24T21:29:55.667840Z",
     "shell.execute_reply.started": "2021-10-24T21:26:03.795485Z"
    },
    "papermill": {
     "duration": 0.047882,
     "end_time": "2021-10-24T21:29:55.668364",
     "exception": false,
     "start_time": "2021-10-24T21:29:55.620482",
     "status": "completed"
    },
    "tags": []
   },
   "outputs": [],
   "source": [
    "model.compile(optimizer='adam',loss=loss_fn,metrics=['accuracy'])"
   ]
  },
  {
   "cell_type": "markdown",
   "id": "7265b80f",
   "metadata": {
    "papermill": {
     "duration": 0.033225,
     "end_time": "2021-10-24T21:29:55.735662",
     "exception": false,
     "start_time": "2021-10-24T21:29:55.702437",
     "status": "completed"
    },
    "tags": []
   },
   "source": [
    "### Defining early stopping technique"
   ]
  },
  {
   "cell_type": "code",
   "execution_count": 22,
   "id": "cbb32400",
   "metadata": {
    "execution": {
     "iopub.execute_input": "2021-10-24T21:29:55.808048Z",
     "iopub.status.busy": "2021-10-24T21:29:55.807293Z",
     "iopub.status.idle": "2021-10-24T21:29:55.809981Z",
     "shell.execute_reply": "2021-10-24T21:29:55.809565Z",
     "shell.execute_reply.started": "2021-10-24T21:26:04.825373Z"
    },
    "papermill": {
     "duration": 0.040026,
     "end_time": "2021-10-24T21:29:55.810084",
     "exception": false,
     "start_time": "2021-10-24T21:29:55.770058",
     "status": "completed"
    },
    "tags": []
   },
   "outputs": [],
   "source": [
    "early_stopping=tf.keras.callbacks.EarlyStopping(\n",
    "monitor='val_loss',\n",
    "mode='auto',\n",
    "min_delta=0,\n",
    "patience=5,\n",
    "verbose=0,\n",
    "restore_best_weights=True)"
   ]
  },
  {
   "cell_type": "markdown",
   "id": "13467a55",
   "metadata": {
    "papermill": {
     "duration": 0.032449,
     "end_time": "2021-10-24T21:29:55.875286",
     "exception": false,
     "start_time": "2021-10-24T21:29:55.842837",
     "status": "completed"
    },
    "tags": []
   },
   "source": [
    "### Fitting our model"
   ]
  },
  {
   "cell_type": "code",
   "execution_count": 23,
   "id": "b59b392d",
   "metadata": {
    "execution": {
     "iopub.execute_input": "2021-10-24T21:29:55.948016Z",
     "iopub.status.busy": "2021-10-24T21:29:55.947320Z",
     "iopub.status.idle": "2021-10-24T21:30:23.531990Z",
     "shell.execute_reply": "2021-10-24T21:30:23.531531Z",
     "shell.execute_reply.started": "2021-10-24T21:26:06.855068Z"
    },
    "papermill": {
     "duration": 27.623278,
     "end_time": "2021-10-24T21:30:23.532123",
     "exception": false,
     "start_time": "2021-10-24T21:29:55.908845",
     "status": "completed"
    },
    "tags": []
   },
   "outputs": [
    {
     "name": "stderr",
     "output_type": "stream",
     "text": [
      "2021-10-24 21:29:56.104660: I tensorflow/compiler/mlir/mlir_graph_optimization_pass.cc:185] None of the MLIR Optimization Passes are enabled (registered 2)\n"
     ]
    },
    {
     "name": "stdout",
     "output_type": "stream",
     "text": [
      "Epoch 1/100\n"
     ]
    },
    {
     "name": "stderr",
     "output_type": "stream",
     "text": [
      "2021-10-24 21:29:57.441605: I tensorflow/stream_executor/cuda/cuda_dnn.cc:369] Loaded cuDNN version 8005\n"
     ]
    },
    {
     "name": "stdout",
     "output_type": "stream",
     "text": [
      "168/168 - 8s - loss: 3.2001 - accuracy: 0.0680 - val_loss: 2.5062 - val_accuracy: 0.2254\n",
      "Epoch 2/100\n",
      "168/168 - 1s - loss: 2.0465 - accuracy: 0.3227 - val_loss: 1.1437 - val_accuracy: 0.6280\n",
      "Epoch 3/100\n",
      "168/168 - 1s - loss: 1.2744 - accuracy: 0.5438 - val_loss: 0.7663 - val_accuracy: 0.7381\n",
      "Epoch 4/100\n",
      "168/168 - 1s - loss: 0.9131 - accuracy: 0.6698 - val_loss: 0.5470 - val_accuracy: 0.8140\n",
      "Epoch 5/100\n",
      "168/168 - 1s - loss: 0.6631 - accuracy: 0.7614 - val_loss: 0.3476 - val_accuracy: 0.8817\n",
      "Epoch 6/100\n",
      "168/168 - 1s - loss: 0.5102 - accuracy: 0.8280 - val_loss: 0.3103 - val_accuracy: 0.9018\n",
      "Epoch 7/100\n",
      "168/168 - 1s - loss: 0.3961 - accuracy: 0.8691 - val_loss: 0.2424 - val_accuracy: 0.9167\n",
      "Epoch 8/100\n",
      "168/168 - 1s - loss: 0.3488 - accuracy: 0.8852 - val_loss: 0.2148 - val_accuracy: 0.9249\n",
      "Epoch 9/100\n",
      "168/168 - 1s - loss: 0.2894 - accuracy: 0.9072 - val_loss: 0.1812 - val_accuracy: 0.9539\n",
      "Epoch 10/100\n",
      "168/168 - 1s - loss: 0.2322 - accuracy: 0.9252 - val_loss: 0.1802 - val_accuracy: 0.9487\n",
      "Epoch 11/100\n",
      "168/168 - 1s - loss: 0.2114 - accuracy: 0.9314 - val_loss: 0.1658 - val_accuracy: 0.9494\n",
      "Epoch 12/100\n",
      "168/168 - 1s - loss: 0.1953 - accuracy: 0.9356 - val_loss: 0.1610 - val_accuracy: 0.9487\n",
      "Epoch 13/100\n",
      "168/168 - 1s - loss: 0.1788 - accuracy: 0.9441 - val_loss: 0.1644 - val_accuracy: 0.9546\n",
      "Epoch 14/100\n",
      "168/168 - 1s - loss: 0.1460 - accuracy: 0.9540 - val_loss: 0.2057 - val_accuracy: 0.9539\n",
      "Epoch 15/100\n",
      "168/168 - 1s - loss: 0.1681 - accuracy: 0.9476 - val_loss: 0.1565 - val_accuracy: 0.9591\n",
      "Epoch 16/100\n",
      "168/168 - 1s - loss: 0.1221 - accuracy: 0.9608 - val_loss: 0.1554 - val_accuracy: 0.9606\n",
      "Epoch 17/100\n",
      "168/168 - 1s - loss: 0.1360 - accuracy: 0.9545 - val_loss: 0.2079 - val_accuracy: 0.9576\n",
      "Epoch 18/100\n",
      "168/168 - 1s - loss: 0.1081 - accuracy: 0.9687 - val_loss: 0.1534 - val_accuracy: 0.9635\n",
      "Epoch 19/100\n",
      "168/168 - 1s - loss: 0.1070 - accuracy: 0.9643 - val_loss: 0.1773 - val_accuracy: 0.9643\n",
      "Epoch 20/100\n",
      "168/168 - 1s - loss: 0.1163 - accuracy: 0.9640 - val_loss: 0.1869 - val_accuracy: 0.9524\n",
      "Epoch 21/100\n",
      "168/168 - 1s - loss: 0.0883 - accuracy: 0.9717 - val_loss: 0.2054 - val_accuracy: 0.9539\n",
      "Epoch 22/100\n",
      "168/168 - 1s - loss: 0.0846 - accuracy: 0.9747 - val_loss: 0.1762 - val_accuracy: 0.9628\n",
      "Epoch 23/100\n",
      "168/168 - 1s - loss: 0.0946 - accuracy: 0.9721 - val_loss: 0.1613 - val_accuracy: 0.9628\n"
     ]
    },
    {
     "data": {
      "text/plain": [
       "<keras.callbacks.History at 0x7f295ad948d0>"
      ]
     },
     "execution_count": 23,
     "metadata": {},
     "output_type": "execute_result"
    }
   ],
   "source": [
    "model.fit(\n",
    "    train_images,\n",
    "    train_labels,\n",
    "    epochs=100,\n",
    "    batch_size=64,\n",
    "    callbacks=[early_stopping],\n",
    "    validation_data= (validation_images,validation_labels),\n",
    "    verbose=2\n",
    ")"
   ]
  },
  {
   "cell_type": "code",
   "execution_count": 24,
   "id": "d4d30fdc",
   "metadata": {
    "execution": {
     "iopub.execute_input": "2021-10-24T21:30:23.629088Z",
     "iopub.status.busy": "2021-10-24T21:30:23.628288Z",
     "iopub.status.idle": "2021-10-24T21:30:38.042679Z",
     "shell.execute_reply": "2021-10-24T21:30:38.043088Z",
     "shell.execute_reply.started": "2021-10-24T21:26:38.090278Z"
    },
    "papermill": {
     "duration": 14.464457,
     "end_time": "2021-10-24T21:30:38.043244",
     "exception": false,
     "start_time": "2021-10-24T21:30:23.578787",
     "status": "completed"
    },
    "tags": []
   },
   "outputs": [
    {
     "name": "stdout",
     "output_type": "stream",
     "text": [
      "42/42 [==============================] - 0s 3ms/step - loss: 0.1493 - accuracy: 0.9650\n"
     ]
    },
    {
     "data": {
      "text/plain": [
       "[0.1492651253938675, 0.965029776096344]"
      ]
     },
     "execution_count": 24,
     "metadata": {},
     "output_type": "execute_result"
    }
   ],
   "source": [
    "model.evaluate(test_images,test_labels)"
   ]
  },
  {
   "cell_type": "markdown",
   "id": "900cd155",
   "metadata": {
    "papermill": {
     "duration": 0.047803,
     "end_time": "2021-10-24T21:30:38.139118",
     "exception": false,
     "start_time": "2021-10-24T21:30:38.091315",
     "status": "completed"
    },
    "tags": []
   },
   "source": [
    "### Retraining the model with larger batch size"
   ]
  },
  {
   "cell_type": "code",
   "execution_count": 25,
   "id": "8e239b9e",
   "metadata": {
    "execution": {
     "iopub.execute_input": "2021-10-24T21:30:38.239690Z",
     "iopub.status.busy": "2021-10-24T21:30:38.238409Z",
     "iopub.status.idle": "2021-10-24T21:30:45.316548Z",
     "shell.execute_reply": "2021-10-24T21:30:45.316092Z",
     "shell.execute_reply.started": "2021-10-24T21:26:52.538096Z"
    },
    "papermill": {
     "duration": 7.130234,
     "end_time": "2021-10-24T21:30:45.316688",
     "exception": false,
     "start_time": "2021-10-24T21:30:38.186454",
     "status": "completed"
    },
    "tags": []
   },
   "outputs": [
    {
     "name": "stdout",
     "output_type": "stream",
     "text": [
      "Epoch 1/10\n",
      "21/21 - 2s - loss: 0.0869 - accuracy: 0.9731 - val_loss: 0.1582 - val_accuracy: 0.9621\n",
      "Epoch 2/10\n",
      "21/21 - 1s - loss: 0.0699 - accuracy: 0.9781 - val_loss: 0.1564 - val_accuracy: 0.9643\n",
      "Epoch 3/10\n",
      "21/21 - 1s - loss: 0.0533 - accuracy: 0.9825 - val_loss: 0.1567 - val_accuracy: 0.9680\n",
      "Epoch 4/10\n",
      "21/21 - 1s - loss: 0.0554 - accuracy: 0.9831 - val_loss: 0.1579 - val_accuracy: 0.9650\n",
      "Epoch 5/10\n",
      "21/21 - 1s - loss: 0.0512 - accuracy: 0.9837 - val_loss: 0.1572 - val_accuracy: 0.9688\n",
      "Epoch 6/10\n",
      "21/21 - 1s - loss: 0.0508 - accuracy: 0.9829 - val_loss: 0.1507 - val_accuracy: 0.9673\n",
      "Epoch 7/10\n",
      "21/21 - 1s - loss: 0.0448 - accuracy: 0.9860 - val_loss: 0.1624 - val_accuracy: 0.9658\n",
      "Epoch 8/10\n",
      "21/21 - 1s - loss: 0.0441 - accuracy: 0.9853 - val_loss: 0.1509 - val_accuracy: 0.9702\n",
      "Epoch 9/10\n",
      "21/21 - 1s - loss: 0.0411 - accuracy: 0.9874 - val_loss: 0.1592 - val_accuracy: 0.9673\n",
      "Epoch 10/10\n",
      "21/21 - 1s - loss: 0.0381 - accuracy: 0.9880 - val_loss: 0.1654 - val_accuracy: 0.9688\n"
     ]
    },
    {
     "data": {
      "text/plain": [
       "<keras.callbacks.History at 0x7f2940286dd0>"
      ]
     },
     "execution_count": 25,
     "metadata": {},
     "output_type": "execute_result"
    }
   ],
   "source": [
    "model.fit(\n",
    "    train_images,\n",
    "    train_labels,\n",
    "    epochs=10,\n",
    "    batch_size=512,\n",
    "    callbacks=[early_stopping],\n",
    "    validation_data= (validation_images,validation_labels),\n",
    "    verbose=2\n",
    ")"
   ]
  },
  {
   "cell_type": "code",
   "execution_count": 26,
   "id": "513ff1a6",
   "metadata": {
    "execution": {
     "iopub.execute_input": "2021-10-24T21:30:45.427200Z",
     "iopub.status.busy": "2021-10-24T21:30:45.426108Z",
     "iopub.status.idle": "2021-10-24T21:30:45.597002Z",
     "shell.execute_reply": "2021-10-24T21:30:45.597861Z",
     "shell.execute_reply.started": "2021-10-24T21:27:12.153041Z"
    },
    "papermill": {
     "duration": 0.228145,
     "end_time": "2021-10-24T21:30:45.598025",
     "exception": false,
     "start_time": "2021-10-24T21:30:45.369880",
     "status": "completed"
    },
    "tags": []
   },
   "outputs": [
    {
     "name": "stdout",
     "output_type": "stream",
     "text": [
      "42/42 [==============================] - 0s 3ms/step - loss: 0.1569 - accuracy: 0.9710\n"
     ]
    },
    {
     "data": {
      "text/plain": [
       "[0.1568971872329712, 0.9709821343421936]"
      ]
     },
     "execution_count": 26,
     "metadata": {},
     "output_type": "execute_result"
    }
   ],
   "source": [
    "model.evaluate(test_images,test_labels)"
   ]
  },
  {
   "cell_type": "markdown",
   "id": "99dbb69c",
   "metadata": {
    "papermill": {
     "duration": 0.055797,
     "end_time": "2021-10-24T21:30:45.709558",
     "exception": false,
     "start_time": "2021-10-24T21:30:45.653761",
     "status": "completed"
    },
    "tags": []
   },
   "source": [
    "### Generating predictions"
   ]
  },
  {
   "cell_type": "code",
   "execution_count": 27,
   "id": "7e5331ea",
   "metadata": {
    "execution": {
     "iopub.execute_input": "2021-10-24T21:30:45.823165Z",
     "iopub.status.busy": "2021-10-24T21:30:45.822089Z",
     "iopub.status.idle": "2021-10-24T21:30:46.099139Z",
     "shell.execute_reply": "2021-10-24T21:30:46.098229Z",
     "shell.execute_reply.started": "2021-10-24T21:27:23.075103Z"
    },
    "papermill": {
     "duration": 0.336088,
     "end_time": "2021-10-24T21:30:46.099276",
     "exception": false,
     "start_time": "2021-10-24T21:30:45.763188",
     "status": "completed"
    },
    "tags": []
   },
   "outputs": [],
   "source": [
    "predictions= model.predict(test_data)"
   ]
  },
  {
   "cell_type": "code",
   "execution_count": 28,
   "id": "dfee243f",
   "metadata": {
    "execution": {
     "iopub.execute_input": "2021-10-24T21:30:46.217889Z",
     "iopub.status.busy": "2021-10-24T21:30:46.216982Z",
     "iopub.status.idle": "2021-10-24T21:30:46.220516Z",
     "shell.execute_reply": "2021-10-24T21:30:46.221049Z",
     "shell.execute_reply.started": "2021-10-24T21:27:23.586868Z"
    },
    "papermill": {
     "duration": 0.066015,
     "end_time": "2021-10-24T21:30:46.221211",
     "exception": false,
     "start_time": "2021-10-24T21:30:46.155196",
     "status": "completed"
    },
    "tags": []
   },
   "outputs": [
    {
     "data": {
      "text/plain": [
       "array([[-56.221394  , -38.2534    , -44.943253  , ...,  34.926395  ,\n",
       "          0.40493226, -22.833252  ],\n",
       "       [-17.884071  ,  -3.8064103 ,  -2.6648774 , ..., -12.656643  ,\n",
       "         -2.6376905 ,  -7.740626  ],\n",
       "       [-48.33496   ,  33.52644   , -11.56693   , ..., -26.79501   ,\n",
       "        -19.787048  , -26.404879  ],\n",
       "       ...,\n",
       "       [-28.620642  , -19.829472  ,  -8.603633  , ..., -26.79694   ,\n",
       "        -24.993547  , -15.572935  ],\n",
       "       [-24.831638  ,  -0.5212949 , -14.013842  , ..., -21.459522  ,\n",
       "         -8.107895  , -18.875954  ],\n",
       "       [-14.001586  , -11.5988035 ,  -9.730214  , ...,  -9.848003  ,\n",
       "         -8.35116   ,  -6.0066113 ]], dtype=float32)"
      ]
     },
     "execution_count": 28,
     "metadata": {},
     "output_type": "execute_result"
    }
   ],
   "source": [
    "predictions"
   ]
  },
  {
   "cell_type": "code",
   "execution_count": 29,
   "id": "b8f4a48a",
   "metadata": {
    "execution": {
     "iopub.execute_input": "2021-10-24T21:30:46.344147Z",
     "iopub.status.busy": "2021-10-24T21:30:46.343337Z",
     "iopub.status.idle": "2021-10-24T21:30:46.345517Z",
     "shell.execute_reply": "2021-10-24T21:30:46.345913Z",
     "shell.execute_reply.started": "2021-10-24T21:27:24.160339Z"
    },
    "papermill": {
     "duration": 0.063759,
     "end_time": "2021-10-24T21:30:46.346075",
     "exception": false,
     "start_time": "2021-10-24T21:30:46.282316",
     "status": "completed"
    },
    "tags": []
   },
   "outputs": [],
   "source": [
    "predictions= np.argmax(predictions,axis=1)"
   ]
  },
  {
   "cell_type": "code",
   "execution_count": 30,
   "id": "a609813f",
   "metadata": {
    "execution": {
     "iopub.execute_input": "2021-10-24T21:30:46.470244Z",
     "iopub.status.busy": "2021-10-24T21:30:46.469392Z",
     "iopub.status.idle": "2021-10-24T21:30:46.472190Z",
     "shell.execute_reply": "2021-10-24T21:30:46.472627Z",
     "shell.execute_reply.started": "2021-10-24T21:27:24.507030Z"
    },
    "papermill": {
     "duration": 0.067677,
     "end_time": "2021-10-24T21:30:46.472766",
     "exception": false,
     "start_time": "2021-10-24T21:30:46.405089",
     "status": "completed"
    },
    "tags": []
   },
   "outputs": [
    {
     "data": {
      "text/plain": [
       "(3360,)"
      ]
     },
     "execution_count": 30,
     "metadata": {},
     "output_type": "execute_result"
    }
   ],
   "source": [
    "predictions.shape"
   ]
  },
  {
   "cell_type": "code",
   "execution_count": 31,
   "id": "db2880b6",
   "metadata": {
    "execution": {
     "iopub.execute_input": "2021-10-24T21:30:46.591778Z",
     "iopub.status.busy": "2021-10-24T21:30:46.591142Z",
     "iopub.status.idle": "2021-10-24T21:30:46.605131Z",
     "shell.execute_reply": "2021-10-24T21:30:46.605609Z",
     "shell.execute_reply.started": "2021-10-24T21:27:24.829341Z"
    },
    "papermill": {
     "duration": 0.077215,
     "end_time": "2021-10-24T21:30:46.605751",
     "exception": false,
     "start_time": "2021-10-24T21:30:46.528536",
     "status": "completed"
    },
    "tags": []
   },
   "outputs": [],
   "source": [
    "test_df= pd.read_csv('../input/arabic-hwr-ai-pro-intake1/test.csv')"
   ]
  },
  {
   "cell_type": "code",
   "execution_count": 32,
   "id": "eb645d97",
   "metadata": {
    "execution": {
     "iopub.execute_input": "2021-10-24T21:30:46.727974Z",
     "iopub.status.busy": "2021-10-24T21:30:46.727042Z",
     "iopub.status.idle": "2021-10-24T21:30:46.732577Z",
     "shell.execute_reply": "2021-10-24T21:30:46.732991Z",
     "shell.execute_reply.started": "2021-10-24T21:27:26.322447Z"
    },
    "papermill": {
     "duration": 0.070225,
     "end_time": "2021-10-24T21:30:46.733120",
     "exception": false,
     "start_time": "2021-10-24T21:30:46.662895",
     "status": "completed"
    },
    "tags": []
   },
   "outputs": [
    {
     "data": {
      "text/html": [
       "<div>\n",
       "<style scoped>\n",
       "    .dataframe tbody tr th:only-of-type {\n",
       "        vertical-align: middle;\n",
       "    }\n",
       "\n",
       "    .dataframe tbody tr th {\n",
       "        vertical-align: top;\n",
       "    }\n",
       "\n",
       "    .dataframe thead th {\n",
       "        text-align: right;\n",
       "    }\n",
       "</style>\n",
       "<table border=\"1\" class=\"dataframe\">\n",
       "  <thead>\n",
       "    <tr style=\"text-align: right;\">\n",
       "      <th></th>\n",
       "      <th>id</th>\n",
       "    </tr>\n",
       "  </thead>\n",
       "  <tbody>\n",
       "    <tr>\n",
       "      <th>0</th>\n",
       "      <td>0</td>\n",
       "    </tr>\n",
       "    <tr>\n",
       "      <th>1</th>\n",
       "      <td>1</td>\n",
       "    </tr>\n",
       "    <tr>\n",
       "      <th>2</th>\n",
       "      <td>2</td>\n",
       "    </tr>\n",
       "    <tr>\n",
       "      <th>3</th>\n",
       "      <td>3</td>\n",
       "    </tr>\n",
       "    <tr>\n",
       "      <th>4</th>\n",
       "      <td>4</td>\n",
       "    </tr>\n",
       "    <tr>\n",
       "      <th>...</th>\n",
       "      <td>...</td>\n",
       "    </tr>\n",
       "    <tr>\n",
       "      <th>3355</th>\n",
       "      <td>3355</td>\n",
       "    </tr>\n",
       "    <tr>\n",
       "      <th>3356</th>\n",
       "      <td>3356</td>\n",
       "    </tr>\n",
       "    <tr>\n",
       "      <th>3357</th>\n",
       "      <td>3357</td>\n",
       "    </tr>\n",
       "    <tr>\n",
       "      <th>3358</th>\n",
       "      <td>3358</td>\n",
       "    </tr>\n",
       "    <tr>\n",
       "      <th>3359</th>\n",
       "      <td>3359</td>\n",
       "    </tr>\n",
       "  </tbody>\n",
       "</table>\n",
       "<p>3360 rows × 1 columns</p>\n",
       "</div>"
      ],
      "text/plain": [
       "        id\n",
       "0        0\n",
       "1        1\n",
       "2        2\n",
       "3        3\n",
       "4        4\n",
       "...    ...\n",
       "3355  3355\n",
       "3356  3356\n",
       "3357  3357\n",
       "3358  3358\n",
       "3359  3359\n",
       "\n",
       "[3360 rows x 1 columns]"
      ]
     },
     "execution_count": 32,
     "metadata": {},
     "output_type": "execute_result"
    }
   ],
   "source": [
    "test_df"
   ]
  },
  {
   "cell_type": "code",
   "execution_count": 33,
   "id": "99e5b410",
   "metadata": {
    "execution": {
     "iopub.execute_input": "2021-10-24T21:30:46.854317Z",
     "iopub.status.busy": "2021-10-24T21:30:46.853600Z",
     "iopub.status.idle": "2021-10-24T21:30:46.857029Z",
     "shell.execute_reply": "2021-10-24T21:30:46.856596Z",
     "shell.execute_reply.started": "2021-10-24T21:27:26.716227Z"
    },
    "papermill": {
     "duration": 0.067233,
     "end_time": "2021-10-24T21:30:46.857137",
     "exception": false,
     "start_time": "2021-10-24T21:30:46.789904",
     "status": "completed"
    },
    "tags": []
   },
   "outputs": [],
   "source": [
    "preds= pd.DataFrame()\n",
    "preds['id']= test_df['id']\n",
    "preds['label']= predictions"
   ]
  },
  {
   "cell_type": "markdown",
   "id": "511c6d25",
   "metadata": {
    "papermill": {
     "duration": 0.056745,
     "end_time": "2021-10-24T21:30:46.971970",
     "exception": false,
     "start_time": "2021-10-24T21:30:46.915225",
     "status": "completed"
    },
    "tags": []
   },
   "source": [
    "### Exporting to csv"
   ]
  },
  {
   "cell_type": "code",
   "execution_count": 34,
   "id": "033fd935",
   "metadata": {
    "execution": {
     "iopub.execute_input": "2021-10-24T21:30:47.091132Z",
     "iopub.status.busy": "2021-10-24T21:30:47.090242Z",
     "iopub.status.idle": "2021-10-24T21:30:47.100597Z",
     "shell.execute_reply": "2021-10-24T21:30:47.100115Z",
     "shell.execute_reply.started": "2021-10-24T21:27:30.165069Z"
    },
    "papermill": {
     "duration": 0.07188,
     "end_time": "2021-10-24T21:30:47.100710",
     "exception": false,
     "start_time": "2021-10-24T21:30:47.028830",
     "status": "completed"
    },
    "tags": []
   },
   "outputs": [],
   "source": [
    "preds.to_csv('submission.csv',index=False)"
   ]
  }
 ],
 "metadata": {
  "kernelspec": {
   "display_name": "Python 3",
   "language": "python",
   "name": "python3"
  },
  "language_info": {
   "codemirror_mode": {
    "name": "ipython",
    "version": 3
   },
   "file_extension": ".py",
   "mimetype": "text/x-python",
   "name": "python",
   "nbconvert_exporter": "python",
   "pygments_lexer": "ipython3",
   "version": "3.7.10"
  },
  "papermill": {
   "default_parameters": {},
   "duration": 129.511351,
   "end_time": "2021-10-24T21:30:50.721883",
   "environment_variables": {},
   "exception": null,
   "input_path": "__notebook__.ipynb",
   "output_path": "__notebook__.ipynb",
   "parameters": {},
   "start_time": "2021-10-24T21:28:41.210532",
   "version": "2.3.3"
  }
 },
 "nbformat": 4,
 "nbformat_minor": 5
}
